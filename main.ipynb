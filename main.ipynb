{
 "cells": [
  {
   "cell_type": "code",
   "execution_count": 9,
   "metadata": {},
   "outputs": [
    {
     "name": "stdout",
     "output_type": "stream",
     "text": [
      "Collecting mutagenNote: you may need to restart the kernel to use updated packages.\n",
      "\n",
      "  Downloading mutagen-1.46.0-py3-none-any.whl (193 kB)\n",
      "     -------------------------------------- 193.6/193.6 kB 3.9 MB/s eta 0:00:00\n",
      "Installing collected packages: mutagen\n",
      "Successfully installed mutagen-1.46.0\n"
     ]
    },
    {
     "name": "stderr",
     "output_type": "stream",
     "text": [
      "WARNING: Ignoring invalid distribution - (c:\\programdata\\anaconda3\\lib\\site-packages)\n",
      "WARNING: Ignoring invalid distribution -ip (c:\\programdata\\anaconda3\\lib\\site-packages)\n",
      "WARNING: Ignoring invalid distribution -umpy (c:\\programdata\\anaconda3\\lib\\site-packages)\n",
      "WARNING: Ignoring invalid distribution - (c:\\programdata\\anaconda3\\lib\\site-packages)\n",
      "WARNING: Ignoring invalid distribution -ip (c:\\programdata\\anaconda3\\lib\\site-packages)\n",
      "WARNING: Ignoring invalid distribution -umpy (c:\\programdata\\anaconda3\\lib\\site-packages)\n"
     ]
    }
   ],
   "source": [
    "%pip install mutagen"
   ]
  },
  {
   "cell_type": "code",
   "execution_count": 11,
   "metadata": {},
   "outputs": [],
   "source": [
    "from mutagen.easyid3 import EasyID3 \n",
    "import pygame\n",
    "from tkinter.filedialog import *\n",
    "from tkinter import *\n",
    "\n",
    "pygame.init()\n",
    "\n",
    "class FrameApp(Frame):\n",
    "    def __init(self, master):\n",
    "        super(FrameApp, self).__init__(master)\n",
    "\n",
    "        self.grid()\n",
    "        self.paused = False\n",
    "        self.playlist = list()\n",
    "        self.actual_song = 0\n",
    "\n",
    "        self.b1 = Button(self, tex='play', command=self.play_music, width=20)\n",
    "        self.b1.grid(row=1, column=0)\n",
    "\n",
    "        self.b2 = Button(self, text='previous', command=self.previous_song,width=20)\n",
    "        self.b2.grid(row=2, column=0)\n",
    "\n",
    "        self.b3 = Button(self, text='toggle', command=self.toggle, width=20)\n",
    "        self.b3.grid(row=3, column = 0)\n",
    "\n",
    "        self.b4 = Button(self, text='next', command=self.next_song, width=20)\n",
    "        self.b4.grid(row=4, column=0)\n",
    "\n",
    "        self.b5 = Button(self, text='add to list', command=self.add_to_list, width=20)\n",
    "        self.b5.grid(row=5, column=0)\n",
    "\n",
    "        self.output = Text(self, wrap=WORD, width=50)\n",
    "        self.output.grid(row=8, column=0)\n",
    "\n",
    "        # set event to unpredefined value in pygame\n",
    "        self.SONG_END = pygame.USEREVENT + 1\n",
    "\n",
    "    def add_to_list(self):\n",
    "        # appends song directory on disk to playlist in memory\n",
    "        directory = askopenfilenames()\n",
    "\n",
    "        for song_dir in directory:\n",
    "            print(song_dir)\n",
    "            self.playlist.append(song_dir)\n",
    "        self.output.delete(0.0, END)\n",
    "\n",
    "        for key, item in enumerate(self.playlist):\n",
    "            # append song to textbox\n",
    "            song = EasyID3(item)\n",
    "            song_data = (str(key + 1) + ' : ' + song['title'][0] + ' - ' \n",
    "            + song['artist'][0])\n",
    "            self.output.insert()\n",
    "\n",
    "\n",
    "\n"
   ]
  }
 ],
 "metadata": {
  "kernelspec": {
   "display_name": "base",
   "language": "python",
   "name": "python3"
  },
  "language_info": {
   "codemirror_mode": {
    "name": "ipython",
    "version": 3
   },
   "file_extension": ".py",
   "mimetype": "text/x-python",
   "name": "python",
   "nbconvert_exporter": "python",
   "pygments_lexer": "ipython3",
   "version": "3.9.7"
  },
  "orig_nbformat": 4
 },
 "nbformat": 4,
 "nbformat_minor": 2
}
